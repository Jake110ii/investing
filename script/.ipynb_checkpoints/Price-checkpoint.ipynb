{
 "cells": [
  {
   "cell_type": "code",
   "execution_count": 11,
   "metadata": {},
   "outputs": [],
   "source": [
    "import pandas as pd\n",
    "import requests\n",
    "from selenium import webdriver\n",
    "from time import sleep\n",
    "from selenium.webdriver.support.select import Select\n",
    "from bs4 import BeautifulSoup\n",
    "from IPython.core.debugger import Pdb\n",
    "from selenium.webdriver.common.by import By"
   ]
  },
  {
   "cell_type": "code",
   "execution_count": 18,
   "metadata": {
    "code_folding": [
     70
    ]
   },
   "outputs": [
    {
     "name": "stderr",
     "output_type": "stream",
     "text": [
      "/Users/hayata/anaconda3/lib/python3.7/site-packages/ipykernel_launcher.py:6: DeprecationWarning: executable_path has been deprecated, please pass in a Service object\n",
      "  \n"
     ]
    }
   ],
   "source": [
    "\n",
    "def amazon_get():\n",
    "    options = webdriver.ChromeOptions()\n",
    "    options.add_argument('--headless')\n",
    "    driver = webdriver.Chrome(\n",
    "        executable_path='/Users/hayata/.local/lib/python3.7/site-packages/selenium/webdriver/chromedriver',\n",
    "        options=options)\n",
    "    \n",
    "    driver.get('https://www.amazon.co.jp/')\n",
    "    driver.implicitly_wait(5)\n",
    "    sleep(1)\n",
    "\n",
    "#     driver.find_element_by_id('nav-search-dropdown-card').click()\n",
    "    driver.find_element(By.ID, \"nav-search-dropdown-card\").click()\n",
    "#     select_category = Select(driver.find_element_by_id('searchDropdownBox'))\n",
    "    select_category = Select(driver.find_element(By.ID, 'searchDropdownBox'))\n",
    "    ### 商品カテゴリ「ドラッグストア（search-alias=hpc）」 を選択\n",
    "    select_category.select_by_value('search-alias=hpc')\n",
    "    \n",
    "    ### オムツ ビッグサイズ L を検索 \n",
    "    driver.find_element(By.CSS_SELECTOR, 'div.nav-search-field > input').send_keys('オムツ ビッグサイズ L')\n",
    "#     driver.find_element_by_css_selector('div.nav-search-field > input').send_keys('オムツ ビッグサイズ L')\n",
    "    driver.find_element(By.CSS_SELECTOR, 'div.nav-right > div > span > input').click()\n",
    "#     driver.find_element_by_css_selector('div.nav-right > div > span > input').click()\n",
    "#     Pdb().set_trace()\n",
    "\n",
    "    ### レビューの評価順（review-rank）に並べ替える\n",
    "    sort_select = Select(driver.find_element(By.ID, 's-result-sort-select'))\n",
    "    sort_select.select_by_value('review-rank')\n",
    "    sleep(1)\n",
    "\n",
    "    ### ページを取得\n",
    "#     a_tags = driver.find_elements_by_css_selector('ul.a-pagination > li.a-selected > a')\n",
    "    a_tags = driver.find_elements(By.CSS_SELECTOR, 'ul.a-pagination > li.a-selected > a')\n",
    "#     a_tags += driver.find_elements_by_css_selector('ul.a-pagination > li.a-normal > a')\n",
    "    a_tags += driver.find_elements(By.CSS_SELECTOR, 'ul.a-pagination > li.a-normal > a')\n",
    "    ### aタグをa_tagsに格納後、page_linksに入れ直します\n",
    "    page_links = [a_tag.get_attribute('href') for a_tag in a_tags]\n",
    "\n",
    "    ### 商品情報をリスト（amz_prd_info）にぶち込んでいく\n",
    "    amz_prd_info = []\n",
    "    for page_link in page_links:\n",
    "        driver.get(page_link)\n",
    "        sleep(5)\n",
    "        source = driver.page_source.encode('utf-8')\n",
    "        soup = BeautifulSoup(source, 'lxml')\n",
    "        product_soup = soup.select('div.a-section.a-spacing-medium')\n",
    "\n",
    "        ### 一番下にヘルプのブロックが入ってくるようだったので、-1 として除外しました\n",
    "        for i in range(len(product_soup) - 1):\n",
    "        ### product_soupで味噌汁を作ります\n",
    "            miso_soup = product_soup[i]\n",
    "        ### 書籍名を取得\n",
    "            amz_prd_name = miso_soup.find('span', class_='a-size-base-plus a-color-base a-text-normal').text\n",
    "        ### 価格を取得、値が無い場合は「None」とします\n",
    "            tmp_price = miso_soup.find('span', class_='a-price-whole')\n",
    "            amz_price = tmp_price.text.replace('￥', '').replace(',', '') if tmp_price else None\n",
    "        ### レビューの平均☆を取得、値が無い場合は「None」とします\n",
    "            tmp_review_avg = miso_soup.find('span', class_='a-icon-alt')\n",
    "            review_avg = tmp_review_avg.text if tmp_review_avg else None\n",
    "        ### レビュー数を取得、値が無い場合は「None」とします\n",
    "            tmp_review_num = miso_soup.select_one('div.a-row.a-size-small > span:nth-of-type(2) > a > span')\n",
    "            review_num = tmp_review_num.text if tmp_review_num else None\n",
    "\n",
    "            ### 味噌汁から取得した情報を、読みやすく整え、親切丁寧にぶち込んでいきます\n",
    "            amz_prd_info.append({\n",
    "                'amz_prd_name': amz_prd_name,\n",
    "                'amz_price': amz_price,\n",
    "                'amz_review_avg': review_avg,\n",
    "                'amz_review_num': review_num\n",
    "            })\n",
    "\n",
    "    driver.quit()\n",
    "\n",
    "    return amz_prd_info\n",
    "\n",
    "def add_rakuten_comp(amz_prd_info):\n",
    "    ### amz_prd_infoを一つずつまわしていく\n",
    "    for amz_prd in amz_prd_info:\n",
    "        ### 商品名を取得、楽天市場での検索時に「Amazon.co.jp限定」の文字列は邪魔なので滅する\n",
    "        amz_prd_name = amz_prd['amz_prd_name'].replace('Amazon.co.jp ', 'Amazon.co.jp').replace('【Amazon.co.jp限定】', '')\n",
    "        ### 「送料無料・価格の安い順（?filter=fs&s=2）」を付与して商品名を検索\n",
    "        url = 'https://search.rakuten.co.jp/search/mall/' + amz_prd_name + '?filter=fs&s=2'\n",
    "        r = requests.get(url)\n",
    "        soup = BeautifulSoup(r.content, 'lxml')\n",
    "        tmp_price = soup.select_one('div.content.description.price > span')\n",
    "        rak_price = tmp_price.text.replace('円', '').replace(',', '') if tmp_price else None\n",
    "        tmp_name = soup.select_one('div.content.title > h2 > a')\n",
    "        rak_name = tmp_name.text if tmp_name else None\n",
    "\n",
    "        ### 価格を比較\n",
    "        if rak_price is not None and amz_prd['amz_price'] is not None:\n",
    "            amz_price = int(amz_prd['amz_price'])\n",
    "            rak_price = int(rak_price)\n",
    "            ### amazonの方が安ければ、cheaperという変数に「Amazon」と入れてあげる\n",
    "            if amz_price < rak_price:\n",
    "                cheaper = 'Amazon'\n",
    "            ### 楽天市場の方が安ければ、cheaperという変数に「Rakuten」と入れてあげる\n",
    "            elif rak_price < amz_price:\n",
    "                cheaper = 'Rakuten'\n",
    "            ### 同じ価格であれば、cheaperという変数に「Same price」と入れてあげる\n",
    "            else:\n",
    "                cheaper = 'Same price'\n",
    "        ### 価格がNoneのものは、cheaperもNoneにしておく\n",
    "        else:\n",
    "            cheaper = None\n",
    "\n",
    "        ### 楽天での検索結果「商品名・価格・価格の安い方（cheaper）」を追記\n",
    "        amz_prd.update({\n",
    "            'rakuten_prd_name': rak_name,\n",
    "            'rakuten_price': rak_price,\n",
    "            'cheaper': cheaper\n",
    "        })\n",
    "\n",
    "    return amz_prd_info\n",
    "\n",
    "\n",
    "if __name__ == '__main__':\n",
    "    amz_prd_info = amazon_get()\n",
    "    result = add_rakuten_comp(amz_prd_info=amz_prd_info)\n",
    "\n",
    "    ### pandasを使って結果をcsv出力\n",
    "    df = pd.DataFrame(result)\n",
    "    df.index = df.index + 1\n",
    "    df.to_csv('amazon-omutsu.csv', encoding='utf-8-sig')"
   ]
  },
  {
   "cell_type": "code",
   "execution_count": 20,
   "metadata": {},
   "outputs": [
    {
     "data": {
      "text/html": [
       "<div>\n",
       "<style scoped>\n",
       "    .dataframe tbody tr th:only-of-type {\n",
       "        vertical-align: middle;\n",
       "    }\n",
       "\n",
       "    .dataframe tbody tr th {\n",
       "        vertical-align: top;\n",
       "    }\n",
       "\n",
       "    .dataframe thead th {\n",
       "        text-align: right;\n",
       "    }\n",
       "</style>\n",
       "<table border=\"1\" class=\"dataframe\">\n",
       "  <thead>\n",
       "    <tr style=\"text-align: right;\">\n",
       "      <th></th>\n",
       "    </tr>\n",
       "  </thead>\n",
       "  <tbody>\n",
       "  </tbody>\n",
       "</table>\n",
       "</div>"
      ],
      "text/plain": [
       "Empty DataFrame\n",
       "Columns: []\n",
       "Index: []"
      ]
     },
     "execution_count": 20,
     "metadata": {},
     "output_type": "execute_result"
    }
   ],
   "source": [
    "# import pandas as pd\n",
    "df = pd.read_csv('amazon-omutsu.csv', index_col=0)\n",
    "df"
   ]
  },
  {
   "cell_type": "code",
   "execution_count": 3,
   "metadata": {},
   "outputs": [
    {
     "data": {
      "text/plain": [
       "'/Users/hayata/.local/lib/python3.7/site-packages/selenium/webdriver/__init__.py'"
      ]
     },
     "execution_count": 3,
     "metadata": {},
     "output_type": "execute_result"
    }
   ],
   "source": [
    "webdriver.__file__"
   ]
  },
  {
   "cell_type": "code",
   "execution_count": 6,
   "metadata": {},
   "outputs": [
    {
     "name": "stderr",
     "output_type": "stream",
     "text": [
      "/Users/hayata/anaconda3/lib/python3.7/site-packages/ipykernel_launcher.py:4: DeprecationWarning: executable_path has been deprecated, please pass in a Service object\n",
      "  after removing the cwd from sys.path.\n"
     ]
    }
   ],
   "source": [
    "options = webdriver.ChromeOptions()\n",
    "options = webdriver.ChromeOptions() = webdriver.Chrome(\n",
    "        executable_path='/Users/hayata/.local/lib/python3.7/site-packages/selenium/webdriver/chromedriver',\n",
    "        options=options)"
   ]
  },
  {
   "cell_type": "code",
   "execution_count": 21,
   "metadata": {},
   "outputs": [
    {
     "ename": "NoSuchWindowException",
     "evalue": "Message: no such window: target window already closed\nfrom unknown error: web view not found\n  (Session info: chrome=107.0.5304.121)\nStacktrace:\n0   chromedriver                        0x000000010c8a32c8 chromedriver + 4752072\n1   chromedriver                        0x000000010c823463 chromedriver + 4228195\n2   chromedriver                        0x000000010c486b18 chromedriver + 441112\n3   chromedriver                        0x000000010c463210 chromedriver + 295440\n4   chromedriver                        0x000000010c4e8e3d chromedriver + 843325\n5   chromedriver                        0x000000010c4fc719 chromedriver + 923417\n6   chromedriver                        0x000000010c4e4b33 chromedriver + 826163\n7   chromedriver                        0x000000010c4b59fd chromedriver + 633341\n8   chromedriver                        0x000000010c4b7051 chromedriver + 639057\n9   chromedriver                        0x000000010c87030e chromedriver + 4543246\n10  chromedriver                        0x000000010c874a88 chromedriver + 4561544\n11  chromedriver                        0x000000010c87c6df chromedriver + 4593375\n12  chromedriver                        0x000000010c8758fa chromedriver + 4565242\n13  chromedriver                        0x000000010c84b2cf chromedriver + 4391631\n14  chromedriver                        0x000000010c8945b8 chromedriver + 4691384\n15  chromedriver                        0x000000010c894739 chromedriver + 4691769\n16  chromedriver                        0x000000010c8aa81e chromedriver + 4782110\n17  libsystem_pthread.dylib             0x00007fff2050f8fc _pthread_start + 224\n18  libsystem_pthread.dylib             0x00007fff2050b443 thread_start + 15\n",
     "output_type": "error",
     "traceback": [
      "\u001b[0;31m---------------------------------------------------------------------------\u001b[0m",
      "\u001b[0;31mNoSuchWindowException\u001b[0m                     Traceback (most recent call last)",
      "\u001b[0;32m<ipython-input-21-443a63d692a4>\u001b[0m in \u001b[0;36m<module>\u001b[0;34m\u001b[0m\n\u001b[1;32m      4\u001b[0m \u001b[0;34m\u001b[0m\u001b[0m\n\u001b[1;32m      5\u001b[0m \u001b[0;31m# class指定\u001b[0m\u001b[0;34m\u001b[0m\u001b[0;34m\u001b[0m\u001b[0;34m\u001b[0m\u001b[0m\n\u001b[0;32m----> 6\u001b[0;31m \u001b[0mdriver\u001b[0m\u001b[0;34m.\u001b[0m\u001b[0mfind_elements\u001b[0m\u001b[0;34m(\u001b[0m\u001b[0mBy\u001b[0m\u001b[0;34m.\u001b[0m\u001b[0mCLASS_NAME\u001b[0m\u001b[0;34m,\u001b[0m \u001b[0;34m\"tag_name\"\u001b[0m\u001b[0;34m)\u001b[0m\u001b[0;34m\u001b[0m\u001b[0;34m\u001b[0m\u001b[0m\n\u001b[0m\u001b[1;32m      7\u001b[0m \u001b[0;34m\u001b[0m\u001b[0m\n\u001b[1;32m      8\u001b[0m \u001b[0;31m# タグ指定\u001b[0m\u001b[0;34m\u001b[0m\u001b[0;34m\u001b[0m\u001b[0;34m\u001b[0m\u001b[0m\n",
      "\u001b[0;32m~/.local/lib/python3.7/site-packages/selenium/webdriver/remote/webdriver.py\u001b[0m in \u001b[0;36mfind_elements\u001b[0;34m(self, by, value)\u001b[0m\n\u001b[1;32m    890\u001b[0m         \u001b[0;31m# Return empty list if driver returns null\u001b[0m\u001b[0;34m\u001b[0m\u001b[0;34m\u001b[0m\u001b[0;34m\u001b[0m\u001b[0m\n\u001b[1;32m    891\u001b[0m         \u001b[0;31m# See https://github.com/SeleniumHQ/selenium/issues/4555\u001b[0m\u001b[0;34m\u001b[0m\u001b[0;34m\u001b[0m\u001b[0;34m\u001b[0m\u001b[0m\n\u001b[0;32m--> 892\u001b[0;31m         \u001b[0;32mreturn\u001b[0m \u001b[0mself\u001b[0m\u001b[0;34m.\u001b[0m\u001b[0mexecute\u001b[0m\u001b[0;34m(\u001b[0m\u001b[0mCommand\u001b[0m\u001b[0;34m.\u001b[0m\u001b[0mFIND_ELEMENTS\u001b[0m\u001b[0;34m,\u001b[0m \u001b[0;34m{\u001b[0m\u001b[0;34m\"using\"\u001b[0m\u001b[0;34m:\u001b[0m \u001b[0mby\u001b[0m\u001b[0;34m,\u001b[0m \u001b[0;34m\"value\"\u001b[0m\u001b[0;34m:\u001b[0m \u001b[0mvalue\u001b[0m\u001b[0;34m}\u001b[0m\u001b[0;34m)\u001b[0m\u001b[0;34m[\u001b[0m\u001b[0;34m\"value\"\u001b[0m\u001b[0;34m]\u001b[0m \u001b[0;32mor\u001b[0m \u001b[0;34m[\u001b[0m\u001b[0;34m]\u001b[0m\u001b[0;34m\u001b[0m\u001b[0;34m\u001b[0m\u001b[0m\n\u001b[0m\u001b[1;32m    893\u001b[0m \u001b[0;34m\u001b[0m\u001b[0m\n\u001b[1;32m    894\u001b[0m     \u001b[0;34m@\u001b[0m\u001b[0mproperty\u001b[0m\u001b[0;34m\u001b[0m\u001b[0;34m\u001b[0m\u001b[0m\n",
      "\u001b[0;32m~/.local/lib/python3.7/site-packages/selenium/webdriver/remote/webdriver.py\u001b[0m in \u001b[0;36mexecute\u001b[0;34m(self, driver_command, params)\u001b[0m\n\u001b[1;32m    442\u001b[0m         \u001b[0mresponse\u001b[0m \u001b[0;34m=\u001b[0m \u001b[0mself\u001b[0m\u001b[0;34m.\u001b[0m\u001b[0mcommand_executor\u001b[0m\u001b[0;34m.\u001b[0m\u001b[0mexecute\u001b[0m\u001b[0;34m(\u001b[0m\u001b[0mdriver_command\u001b[0m\u001b[0;34m,\u001b[0m \u001b[0mparams\u001b[0m\u001b[0;34m)\u001b[0m\u001b[0;34m\u001b[0m\u001b[0;34m\u001b[0m\u001b[0m\n\u001b[1;32m    443\u001b[0m         \u001b[0;32mif\u001b[0m \u001b[0mresponse\u001b[0m\u001b[0;34m:\u001b[0m\u001b[0;34m\u001b[0m\u001b[0;34m\u001b[0m\u001b[0m\n\u001b[0;32m--> 444\u001b[0;31m             \u001b[0mself\u001b[0m\u001b[0;34m.\u001b[0m\u001b[0merror_handler\u001b[0m\u001b[0;34m.\u001b[0m\u001b[0mcheck_response\u001b[0m\u001b[0;34m(\u001b[0m\u001b[0mresponse\u001b[0m\u001b[0;34m)\u001b[0m\u001b[0;34m\u001b[0m\u001b[0;34m\u001b[0m\u001b[0m\n\u001b[0m\u001b[1;32m    445\u001b[0m             \u001b[0mresponse\u001b[0m\u001b[0;34m[\u001b[0m\u001b[0;34m\"value\"\u001b[0m\u001b[0;34m]\u001b[0m \u001b[0;34m=\u001b[0m \u001b[0mself\u001b[0m\u001b[0;34m.\u001b[0m\u001b[0m_unwrap_value\u001b[0m\u001b[0;34m(\u001b[0m\u001b[0mresponse\u001b[0m\u001b[0;34m.\u001b[0m\u001b[0mget\u001b[0m\u001b[0;34m(\u001b[0m\u001b[0;34m\"value\"\u001b[0m\u001b[0;34m,\u001b[0m \u001b[0;32mNone\u001b[0m\u001b[0;34m)\u001b[0m\u001b[0;34m)\u001b[0m\u001b[0;34m\u001b[0m\u001b[0;34m\u001b[0m\u001b[0m\n\u001b[1;32m    446\u001b[0m             \u001b[0;32mreturn\u001b[0m \u001b[0mresponse\u001b[0m\u001b[0;34m\u001b[0m\u001b[0;34m\u001b[0m\u001b[0m\n",
      "\u001b[0;32m~/.local/lib/python3.7/site-packages/selenium/webdriver/remote/errorhandler.py\u001b[0m in \u001b[0;36mcheck_response\u001b[0;34m(self, response)\u001b[0m\n\u001b[1;32m    247\u001b[0m                 \u001b[0malert_text\u001b[0m \u001b[0;34m=\u001b[0m \u001b[0mvalue\u001b[0m\u001b[0;34m[\u001b[0m\u001b[0;34m\"alert\"\u001b[0m\u001b[0;34m]\u001b[0m\u001b[0;34m.\u001b[0m\u001b[0mget\u001b[0m\u001b[0;34m(\u001b[0m\u001b[0;34m\"text\"\u001b[0m\u001b[0;34m)\u001b[0m\u001b[0;34m\u001b[0m\u001b[0;34m\u001b[0m\u001b[0m\n\u001b[1;32m    248\u001b[0m             \u001b[0;32mraise\u001b[0m \u001b[0mexception_class\u001b[0m\u001b[0;34m(\u001b[0m\u001b[0mmessage\u001b[0m\u001b[0;34m,\u001b[0m \u001b[0mscreen\u001b[0m\u001b[0;34m,\u001b[0m \u001b[0mstacktrace\u001b[0m\u001b[0;34m,\u001b[0m \u001b[0malert_text\u001b[0m\u001b[0;34m)\u001b[0m  \u001b[0;31m# type: ignore[call-arg]  # mypy is not smart enough here\u001b[0m\u001b[0;34m\u001b[0m\u001b[0;34m\u001b[0m\u001b[0m\n\u001b[0;32m--> 249\u001b[0;31m         \u001b[0;32mraise\u001b[0m \u001b[0mexception_class\u001b[0m\u001b[0;34m(\u001b[0m\u001b[0mmessage\u001b[0m\u001b[0;34m,\u001b[0m \u001b[0mscreen\u001b[0m\u001b[0;34m,\u001b[0m \u001b[0mstacktrace\u001b[0m\u001b[0;34m)\u001b[0m\u001b[0;34m\u001b[0m\u001b[0;34m\u001b[0m\u001b[0m\n\u001b[0m",
      "\u001b[0;31mNoSuchWindowException\u001b[0m: Message: no such window: target window already closed\nfrom unknown error: web view not found\n  (Session info: chrome=107.0.5304.121)\nStacktrace:\n0   chromedriver                        0x000000010c8a32c8 chromedriver + 4752072\n1   chromedriver                        0x000000010c823463 chromedriver + 4228195\n2   chromedriver                        0x000000010c486b18 chromedriver + 441112\n3   chromedriver                        0x000000010c463210 chromedriver + 295440\n4   chromedriver                        0x000000010c4e8e3d chromedriver + 843325\n5   chromedriver                        0x000000010c4fc719 chromedriver + 923417\n6   chromedriver                        0x000000010c4e4b33 chromedriver + 826163\n7   chromedriver                        0x000000010c4b59fd chromedriver + 633341\n8   chromedriver                        0x000000010c4b7051 chromedriver + 639057\n9   chromedriver                        0x000000010c87030e chromedriver + 4543246\n10  chromedriver                        0x000000010c874a88 chromedriver + 4561544\n11  chromedriver                        0x000000010c87c6df chromedriver + 4593375\n12  chromedriver                        0x000000010c8758fa chromedriver + 4565242\n13  chromedriver                        0x000000010c84b2cf chromedriver + 4391631\n14  chromedriver                        0x000000010c8945b8 chromedriver + 4691384\n15  chromedriver                        0x000000010c894739 chromedriver + 4691769\n16  chromedriver                        0x000000010c8aa81e chromedriver + 4782110\n17  libsystem_pthread.dylib             0x00007fff2050f8fc _pthread_start + 224\n18  libsystem_pthread.dylib             0x00007fff2050b443 thread_start + 15\n"
     ]
    }
   ],
   "source": [
    "#seleniumのバージョン4.3.0以降の書き方\n",
    "\n",
    "from selenium.webdriver.common.by import By\n",
    "\n",
    "# class指定\n",
    "driver.find_elements(By.CLASS_NAME, \"tag_name\")\n",
    "\n",
    "# タグ指定\n",
    "driver.find_elements(By.TAG_NAME, \"div\")"
   ]
  },
  {
   "cell_type": "code",
   "execution_count": null,
   "metadata": {},
   "outputs": [],
   "source": []
  }
 ],
 "metadata": {
  "kernelspec": {
   "display_name": "Python 3",
   "language": "python",
   "name": "python3"
  },
  "language_info": {
   "codemirror_mode": {
    "name": "ipython",
    "version": 3
   },
   "file_extension": ".py",
   "mimetype": "text/x-python",
   "name": "python",
   "nbconvert_exporter": "python",
   "pygments_lexer": "ipython3",
   "version": "3.7.3"
  },
  "nbTranslate": {
   "displayLangs": [
    "jp",
    "en"
   ],
   "hotkey": "alt-t",
   "langInMainMenu": true,
   "sourceLang": "en",
   "targetLang": "jp",
   "useGoogleTranslate": true
  },
  "toc": {
   "base_numbering": 1,
   "nav_menu": {},
   "number_sections": true,
   "sideBar": true,
   "skip_h1_title": false,
   "title_cell": "Table of Contents",
   "title_sidebar": "Contents",
   "toc_cell": false,
   "toc_position": {},
   "toc_section_display": true,
   "toc_window_display": false
  },
  "varInspector": {
   "cols": {
    "lenName": 16,
    "lenType": 16,
    "lenVar": 40
   },
   "kernels_config": {
    "python": {
     "delete_cmd_postfix": "",
     "delete_cmd_prefix": "del ",
     "library": "var_list.py",
     "varRefreshCmd": "print(var_dic_list())"
    },
    "r": {
     "delete_cmd_postfix": ") ",
     "delete_cmd_prefix": "rm(",
     "library": "var_list.r",
     "varRefreshCmd": "cat(var_dic_list()) "
    }
   },
   "types_to_exclude": [
    "module",
    "function",
    "builtin_function_or_method",
    "instance",
    "_Feature"
   ],
   "window_display": false
  }
 },
 "nbformat": 4,
 "nbformat_minor": 2
}
